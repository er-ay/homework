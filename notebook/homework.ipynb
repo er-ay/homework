{
 "cells": [
  {
   "cell_type": "markdown",
   "metadata": {},
   "source": [
    "### Creating course list"
   ]
  },
  {
   "cell_type": "code",
   "execution_count": 1,
   "metadata": {},
   "outputs": [],
   "source": [
    "course_list = [\"Introduction to EEE\", \"Fundamentals of EEE\", \"Logic Circuits\", \"Electronic Lab\", \"Signals and Systems\",\"Chemistry\"]"
   ]
  },
  {
   "cell_type": "markdown",
   "metadata": {},
   "source": [
    "### Defining Functions"
   ]
  },
  {
   "cell_type": "code",
   "execution_count": 2,
   "metadata": {},
   "outputs": [],
   "source": [
    "class Student:\n",
    "\n",
    "    counter = 0\n",
    "    error = 0 \n",
    "    list1 = []\n",
    "    list2 = []\n",
    "    \n",
    "    def __init__(self, no, name, surname):\n",
    "        self.no = no\n",
    "        self.name = name\n",
    "        self.surname= surname\n",
    "        self.courses = []\n",
    "        self.scores = {\"Midterm\":0, \"Final\":0, \"Project\":0}\n",
    "        self.note = \"\"\n",
    "        \n",
    "        Student.list1 = Student.list1 + [self.name]\n",
    "        Student.list2 = Student.list2 + [self.surname]\n",
    "        Student.counter = Student.counter + 1\n",
    "        \n",
    "    def add_course(self):\n",
    "        while True:\n",
    "            print(\"You must take minimum 3, maximum 5 classes.\")\n",
    "            x = input(\"Enter course name: \")\n",
    "            if x in course_list:        \n",
    "                self.courses.append(x)\n",
    "            else:\n",
    "                print(\"Please select an available course. Available courses:\")\n",
    "                for i,course in enumerate(course_list):\n",
    "                    print(str(i+1) + \".\" + course)\n",
    "            y = input(\"Enter 'Y' if you have done taking classes otherwise press any button.\")\n",
    "            if y == \"Y\":\n",
    "                return False\n",
    "\n",
    "    def check(self):\n",
    "        if len(self.courses) < 3:\n",
    "            print(\"You failed. You must have taken minimum 3 classes\")\n",
    "        elif len(self.courses) >= 3 and len(self.courses) <=5:\n",
    "            print(\"You have completed taking classes succesfully\")\n",
    "        else:\n",
    "            print(\"You failed. You must have taken maximum 5 classes\")\n",
    "            \n",
    "    def grades(self):\n",
    "        c = input(\"Enter class name: \")\n",
    "        m = int(input(\"Enter your midterm score: \"))\n",
    "        f = int(input(\"Enter your final score: \"))\n",
    "        p = int(input(\"Enter your project score: \"))\n",
    "    \n",
    "        try:\n",
    "            int(m)\n",
    "            int(f)\n",
    "            int(p)\n",
    "        \n",
    "        except ValueError:\n",
    "            print(\"Please enter a valid score.\")\n",
    "        \n",
    "        self.scores = {\"Midterm: \": str(m), \"Final: \": str(f), \"Project: \": str(p)}\n",
    "    \n",
    "        avg = m*0.3 + f*0.5 + p*0.2\n",
    "    \n",
    "        if avg >= 90:\n",
    "            self.note = \"AA\"\n",
    "        elif avg >= 70 and avg < 90:\n",
    "            self.note = \"BB\"\n",
    "        elif avg >= 50 and avg < 70:\n",
    "            self.note = \"CC\"\n",
    "        elif avg >= 30 and avg <50:\n",
    "            self.note = \"DD\"\n",
    "        else:\n",
    "            self.note = \"FF\"\n",
    "            print(\"You failed on this class\")\n",
    "        \n",
    "    def showinfo(self):\n",
    "        print(\"No: \", self.no)\n",
    "        print(\"Name: \", self.name)\n",
    "        print(\"Surname: \", self.surname)\n",
    "        print(\"Classes: \", self.courses)\n",
    "        print(\"Grades: \", self.scores)\n",
    "        print(\"Status: \" + self.note)\n",
    "                   \n",
    "          \n",
    "def giris():\n",
    "    ask_name = input(\"Enter your name: \")\n",
    "    ask_surname = input(\"Enter your surname: \")\n",
    "        \n",
    "    # Girilen ad ve soyadın oluşturduğum öğrenci ad ve soyad listelerinde olup olmadığını kontrol ediyorum.\n",
    "        \n",
    "    if ask_name in Student.list1 and ask_surname in Student.list2:\n",
    "        print(\"Welcome\", ask_name + \" \" + ask_surname)\n",
    "            \n",
    "    elif ask_name not in Student.list1 or ask_surname not in Student.list2:\n",
    "        print(\"Please try again\")\n",
    "        Student.error += 1\n",
    "        while Student.error < 3:\n",
    "            giris()\n",
    "            print(\"You have entered wrong 3 times.Please try again later\")\n",
    "            break\n",
    "        "
   ]
  },
  {
   "cell_type": "markdown",
   "metadata": {},
   "source": [
    "Creating 3 students."
   ]
  },
  {
   "cell_type": "code",
   "execution_count": 3,
   "metadata": {},
   "outputs": [],
   "source": [
    "ogrenci_1 = Student(17, \"Ayse Nur\",\"Erdem\")\n",
    "ogrenci_2 = Student(18,\"Ikinci\", \"Ogrenci\")\n",
    "ogrenci_3 = Student(19,\"Ucuncu\", \"Ogrenci\")"
   ]
  },
  {
   "cell_type": "markdown",
   "metadata": {},
   "source": [
    "Name list of students:"
   ]
  },
  {
   "cell_type": "code",
   "execution_count": 4,
   "metadata": {},
   "outputs": [
    {
     "data": {
      "text/plain": [
       "['Ayse Nur', 'Ikinci', 'Ucuncu']"
      ]
     },
     "execution_count": 4,
     "metadata": {},
     "output_type": "execute_result"
    }
   ],
   "source": [
    "Student.list1"
   ]
  },
  {
   "cell_type": "markdown",
   "metadata": {},
   "source": [
    "Surname list of students:"
   ]
  },
  {
   "cell_type": "code",
   "execution_count": 5,
   "metadata": {},
   "outputs": [
    {
     "data": {
      "text/plain": [
       "['Erdem', 'Ogrenci', 'Ogrenci']"
      ]
     },
     "execution_count": 5,
     "metadata": {},
     "output_type": "execute_result"
    }
   ],
   "source": [
    "Student.list2"
   ]
  },
  {
   "cell_type": "markdown",
   "metadata": {},
   "source": [
    "#### Log in"
   ]
  },
  {
   "cell_type": "markdown",
   "metadata": {},
   "source": [
    "Entering wrong name 3 times:"
   ]
  },
  {
   "cell_type": "code",
   "execution_count": 22,
   "metadata": {},
   "outputs": [
    {
     "name": "stdout",
     "output_type": "stream",
     "text": [
      "Enter your name: asdfg\n",
      "Enter your surname: sdf\n",
      "Please try again\n",
      "Enter your name: sdf\n",
      "Enter your surname: asd\n",
      "Please try again\n",
      "Enter your name: sdf\n",
      "Enter your surname: asd\n",
      "Please try again\n",
      "You have entered wrong 3 times.Please try again later\n",
      "You have entered wrong 3 times.Please try again later\n"
     ]
    }
   ],
   "source": [
    "giris()"
   ]
  },
  {
   "cell_type": "markdown",
   "metadata": {},
   "source": [
    "Entering a valid name:"
   ]
  },
  {
   "cell_type": "code",
   "execution_count": 3,
   "metadata": {},
   "outputs": [
    {
     "name": "stdout",
     "output_type": "stream",
     "text": [
      "Enter your name: Ayse Nur\n",
      "Enter your surname: Erdem\n",
      "Welcome Ayse Nur Erdem\n"
     ]
    }
   ],
   "source": [
    "giris()"
   ]
  },
  {
   "cell_type": "markdown",
   "metadata": {},
   "source": [
    "Calling add_course funtion to take classes. First, entering invalid class name that is not in the course list and it gives me avaliable class list that I can take. Throughout each step it asks if I'm done taking so it can return if I took proper count of classes in range 3-5."
   ]
  },
  {
   "cell_type": "code",
   "execution_count": 4,
   "metadata": {},
   "outputs": [
    {
     "name": "stdout",
     "output_type": "stream",
     "text": [
      "You must take minimum 3, maximum 5 classes.\n",
      "Enter course name: asdfghj\n",
      "Please select an available course. Available courses:\n",
      "1.Introduction to EEE\n",
      "2.Fundamentals of EEE\n",
      "3.Logic Circuits\n",
      "4.Electronic Lab\n",
      "5.Signals and Systems\n",
      "6.Chemistry\n",
      "Enter 'Y' if you have done taking classes otherwise press any button.\n",
      "You must take minimum 3, maximum 5 classes.\n",
      "Enter course name: Chemistry\n",
      "Enter 'Y' if you have done taking classes otherwise press any button.\n",
      "You must take minimum 3, maximum 5 classes.\n",
      "Enter course name: Electronic Lab\n",
      "Enter 'Y' if you have done taking classes otherwise press any button.\n",
      "You must take minimum 3, maximum 5 classes.\n",
      "Enter course name: Signals and Systems\n",
      "Enter 'Y' if you have done taking classes otherwise press any button.Y\n"
     ]
    },
    {
     "data": {
      "text/plain": [
       "False"
      ]
     },
     "execution_count": 4,
     "metadata": {},
     "output_type": "execute_result"
    }
   ],
   "source": [
    "ogrenci_1.add_course()"
   ]
  },
  {
   "cell_type": "code",
   "execution_count": 5,
   "metadata": {},
   "outputs": [
    {
     "data": {
      "text/plain": [
       "3"
      ]
     },
     "execution_count": 5,
     "metadata": {},
     "output_type": "execute_result"
    }
   ],
   "source": [
    "len(ogrenci_1.courses)"
   ]
  },
  {
   "cell_type": "code",
   "execution_count": 6,
   "metadata": {},
   "outputs": [
    {
     "data": {
      "text/plain": [
       "['Chemistry', 'Electronic Lab', 'Signals and Systems']"
      ]
     },
     "execution_count": 6,
     "metadata": {},
     "output_type": "execute_result"
    }
   ],
   "source": [
    "ogrenci_1.courses"
   ]
  },
  {
   "cell_type": "code",
   "execution_count": 7,
   "metadata": {},
   "outputs": [
    {
     "name": "stdout",
     "output_type": "stream",
     "text": [
      "You have completed taking classes succesfully\n"
     ]
    }
   ],
   "source": [
    "ogrenci_1.check()"
   ]
  },
  {
   "cell_type": "code",
   "execution_count": 8,
   "metadata": {},
   "outputs": [
    {
     "name": "stdout",
     "output_type": "stream",
     "text": [
      "Enter class name: Electronic Lab\n",
      "Enter your midterm score: 75\n",
      "Enter your final score: 68\n",
      "Enter your project score: 80\n"
     ]
    }
   ],
   "source": [
    "ogrenci_1.grades()"
   ]
  },
  {
   "cell_type": "code",
   "execution_count": 9,
   "metadata": {},
   "outputs": [
    {
     "data": {
      "text/plain": [
       "{'Midterm: ': '75', 'Final: ': '68', 'Project: ': '80'}"
      ]
     },
     "execution_count": 9,
     "metadata": {},
     "output_type": "execute_result"
    }
   ],
   "source": [
    "ogrenci_1.scores"
   ]
  },
  {
   "cell_type": "code",
   "execution_count": 10,
   "metadata": {},
   "outputs": [
    {
     "data": {
      "text/plain": [
       "'BB'"
      ]
     },
     "execution_count": 10,
     "metadata": {},
     "output_type": "execute_result"
    }
   ],
   "source": [
    "ogrenci_1.note"
   ]
  },
  {
   "cell_type": "code",
   "execution_count": 11,
   "metadata": {},
   "outputs": [
    {
     "name": "stdout",
     "output_type": "stream",
     "text": [
      "No:  17\n",
      "Name:  Ayse Nur\n",
      "Surname:  Erdem\n",
      "Classes:  ['Chemistry', 'Electronic Lab', 'Signals and Systems']\n",
      "Grades:  {'Midterm: ': '75', 'Final: ': '68', 'Project: ': '80'}\n",
      "Status: BB\n"
     ]
    }
   ],
   "source": [
    "ogrenci_1.showinfo()"
   ]
  },
  {
   "cell_type": "markdown",
   "metadata": {},
   "source": [
    "Logging in for another student:"
   ]
  },
  {
   "cell_type": "code",
   "execution_count": 13,
   "metadata": {},
   "outputs": [
    {
     "name": "stdout",
     "output_type": "stream",
     "text": [
      "Enter your name: Ikinci\n",
      "Enter your surname: Ogrenci\n",
      "Welcome Ikinci Ogrenci\n"
     ]
    }
   ],
   "source": [
    "giris()"
   ]
  },
  {
   "cell_type": "code",
   "execution_count": 14,
   "metadata": {},
   "outputs": [
    {
     "name": "stdout",
     "output_type": "stream",
     "text": [
      "You must take minimum 3, maximum 5 classes.\n",
      "Enter course name: Logic Circuits\n",
      "Enter 'Y' if you have done taking classes otherwise press any button.\n",
      "You must take minimum 3, maximum 5 classes.\n",
      "Enter course name: Fundamentals of EEE\n",
      "Enter 'Y' if you have done taking classes otherwise press any button.Y\n"
     ]
    },
    {
     "data": {
      "text/plain": [
       "False"
      ]
     },
     "execution_count": 14,
     "metadata": {},
     "output_type": "execute_result"
    }
   ],
   "source": [
    "ogrenci_2.add_course()"
   ]
  },
  {
   "cell_type": "markdown",
   "metadata": {},
   "source": [
    "Failed because of not taking enough classes."
   ]
  },
  {
   "cell_type": "code",
   "execution_count": 15,
   "metadata": {},
   "outputs": [
    {
     "name": "stdout",
     "output_type": "stream",
     "text": [
      "You failed. You must have taken minimum 3 classes\n"
     ]
    }
   ],
   "source": [
    "ogrenci_2.check()"
   ]
  },
  {
   "cell_type": "markdown",
   "metadata": {},
   "source": [
    "ogrenci_3:"
   ]
  },
  {
   "cell_type": "code",
   "execution_count": 16,
   "metadata": {},
   "outputs": [
    {
     "name": "stdout",
     "output_type": "stream",
     "text": [
      "Enter your name: Ucuncu\n",
      "Enter your surname: Ogrenci\n",
      "Welcome Ucuncu Ogrenci\n"
     ]
    }
   ],
   "source": [
    "giris()"
   ]
  },
  {
   "cell_type": "code",
   "execution_count": 17,
   "metadata": {},
   "outputs": [
    {
     "name": "stdout",
     "output_type": "stream",
     "text": [
      "You must take minimum 3, maximum 5 classes.\n",
      "Enter course name: Introduction to EEE\n",
      "Enter 'Y' if you have done taking classes otherwise press any button.\n",
      "You must take minimum 3, maximum 5 classes.\n",
      "Enter course name: Logic Circuits\n",
      "Enter 'Y' if you have done taking classes otherwise press any button.\n",
      "You must take minimum 3, maximum 5 classes.\n",
      "Enter course name: Chemistry\n",
      "Enter 'Y' if you have done taking classes otherwise press any button.\n",
      "You must take minimum 3, maximum 5 classes.\n",
      "Enter course name: Signals and Systems\n",
      "Enter 'Y' if you have done taking classes otherwise press any button.Y\n"
     ]
    },
    {
     "data": {
      "text/plain": [
       "False"
      ]
     },
     "execution_count": 17,
     "metadata": {},
     "output_type": "execute_result"
    }
   ],
   "source": [
    "ogrenci_3.add_course()"
   ]
  },
  {
   "cell_type": "code",
   "execution_count": 18,
   "metadata": {},
   "outputs": [
    {
     "name": "stdout",
     "output_type": "stream",
     "text": [
      "You have completed taking classes succesfully\n"
     ]
    }
   ],
   "source": [
    "ogrenci_3.check()"
   ]
  },
  {
   "cell_type": "code",
   "execution_count": 19,
   "metadata": {},
   "outputs": [
    {
     "data": {
      "text/plain": [
       "['Introduction to EEE', 'Logic Circuits', 'Chemistry', 'Signals and Systems']"
      ]
     },
     "execution_count": 19,
     "metadata": {},
     "output_type": "execute_result"
    }
   ],
   "source": [
    "ogrenci_3.courses"
   ]
  },
  {
   "cell_type": "code",
   "execution_count": 20,
   "metadata": {},
   "outputs": [
    {
     "name": "stdout",
     "output_type": "stream",
     "text": [
      "Enter class name: Logic Circuits\n",
      "Enter your midterm score: 93\n",
      "Enter your final score: 85\n",
      "Enter your project score: 80\n"
     ]
    }
   ],
   "source": [
    "ogrenci_3.grades()"
   ]
  },
  {
   "cell_type": "code",
   "execution_count": 21,
   "metadata": {},
   "outputs": [
    {
     "name": "stdout",
     "output_type": "stream",
     "text": [
      "No:  19\n",
      "Name:  Ucuncu\n",
      "Surname:  Ogrenci\n",
      "Classes:  ['Introduction to EEE', 'Logic Circuits', 'Chemistry', 'Signals and Systems']\n",
      "Grades:  {'Midterm: ': '93', 'Final: ': '85', 'Project: ': '80'}\n",
      "Status: BB\n"
     ]
    }
   ],
   "source": [
    "ogrenci_3.showinfo()"
   ]
  }
 ],
 "metadata": {
  "kernelspec": {
   "display_name": "Python 3",
   "language": "python",
   "name": "python3"
  },
  "language_info": {
   "codemirror_mode": {
    "name": "ipython",
    "version": 3
   },
   "file_extension": ".py",
   "mimetype": "text/x-python",
   "name": "python",
   "nbconvert_exporter": "python",
   "pygments_lexer": "ipython3",
   "version": "3.8.3"
  }
 },
 "nbformat": 4,
 "nbformat_minor": 4
}
